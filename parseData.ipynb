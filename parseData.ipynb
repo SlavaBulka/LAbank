{
 "cells": [
  {
   "cell_type": "code",
   "execution_count": 2,
   "id": "1bdd469d-3b5b-4ccb-884a-12b51f039db0",
   "metadata": {},
   "outputs": [],
   "source": [
    "import requests\n",
    "from bs4 import BeautifulSoup\n",
    "from urllib.parse import urljoin\n",
    "from urllib.parse import urlparse\n",
    "import os\n",
    "import time\n",
    "import re"
   ]
  },
  {
   "cell_type": "code",
   "execution_count": null,
   "id": "6aff3657-481f-417d-b262-2b2b9974c54d",
   "metadata": {},
   "outputs": [],
   "source": [
    "# URL страницы для парсинга\n",
    "url = \"http://www.cbr.ru/Crosscut/LawActs/Page/94917?Date.Time=Any&Page=0\"\n",
    "\n",
    "# папка для сохранения скачанных документов\n",
    "download_folder = \"documents\"\n",
    "if not os.path.exists(download_folder):\n",
    "    os.makedirs(download_folder)\n",
    "\n",
    "# Определение заголовков для имитации браузера (чтобы избежать блокировки)\n",
    "headers = {\n",
    "    'User-Agent': 'Mozilla/5.0 (Windows NT 10.0; Win64; x64) AppleWebKit/537.36 (KHTML, like Gecko) Chrome/91.0.4472.124 Safari/537.36'\n",
    "    'Accept-Language': 'en-US,en;q=0.5'\n",
    "}\n",
    "\n",
    "page_number = 0\n",
    "\n",
    "# Функция для скачивания документа\n",
    "def download_document(url, folder):\n",
    "    try:\n",
    "        response = requests.get(url, headers=headers, stream=True)\n",
    "        response.raise_for_status() \n",
    "    \n",
    "        # Получаем расширение файла из заголовка \"Content-Type\"\n",
    "        content_type = response.headers.get('Content-Type')\n",
    "        file_extension = '.pdf' if 'pdf' in content_type else '.md'\n",
    "\n",
    "        if '?' in url:\n",
    "            url = url[:url.find('?')]\n",
    "    \n",
    "        file_name = os.path.join(folder, f\"{url.split('/')[-1]}{file_extension}\")\n",
    "        with open(file_name, 'wb') as file:\n",
    "            for chunk in response.iter_content(chunk_size=128):\n",
    "                file.write(chunk)\n",
    "        print(f\"Документ скачан: {file_name}\")\n",
    "        return True\n",
    "    except Exception as e:\n",
    "        print(f\"Ошибка при скачивании документа: {e}\")\n",
    "        return False\n",
    "\n",
    "# Основной цикл для парсинга страницы\n",
    "while page_number<297:\n",
    "    print(url)\n",
    "    response = requests.get(url, headers=headers)\n",
    "    soup = BeautifulSoup(response.text, 'html.parser')\n",
    "\n",
    "    # Находим все элементы <a> с нужными документами\n",
    "    document_links = soup.select('.title-source.offset-md-4 .title a, .title-source.offset-md-4 .title span.cross-hidden + a')\n",
    "\n",
    "    # Скачиваем каждый документ\n",
    "    for link in document_links:\n",
    "        if 'file' not in link['href'].lower():\n",
    "            continue\n",
    "        document_url = urljoin(\"http://www.cbr.ru\", link['href'])\n",
    "        download_document(document_url, download_folder)\n",
    "        time.sleep(4)\n",
    "\n",
    "    url = \"http://www.cbr.ru/Crosscut/LawActs/Page/94917\"\n",
    "    page_number += 1\n",
    "    url = urljoin(url, \"?Date.Time=Any&Page=\" + str(page_number))\n",
    "    \n",
    "print(\"Все документы скачены\")"
   ]
  },
  {
   "cell_type": "code",
   "execution_count": null,
   "id": "067c9ba9-51d3-4412-8f6b-8c56fb700cfc",
   "metadata": {},
   "outputs": [],
   "source": []
  }
 ],
 "metadata": {
  "kernelspec": {
   "display_name": "Python 3 (ipykernel)",
   "language": "python",
   "name": "python3"
  },
  "language_info": {
   "codemirror_mode": {
    "name": "ipython",
    "version": 3
   },
   "file_extension": ".py",
   "mimetype": "text/x-python",
   "name": "python",
   "nbconvert_exporter": "python",
   "pygments_lexer": "ipython3",
   "version": "3.11.8"
  }
 },
 "nbformat": 4,
 "nbformat_minor": 5
}
